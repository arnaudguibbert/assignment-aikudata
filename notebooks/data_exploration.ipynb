{
 "cells": [
  {
   "cell_type": "markdown",
   "metadata": {},
   "source": [
    "# Data Exploration"
   ]
  },
  {
   "cell_type": "code",
   "execution_count": null,
   "metadata": {},
   "outputs": [],
   "source": [
    "%load_ext autoreload\n",
    "%autoreload 2\n",
    "\n",
    "from assaiku.data import DataConfig, DataPipe\n",
    "from assaiku.data.validation import load_and_validate\n",
    "from assaiku.data.exploration import (\n",
    "    visualize_categorical_dist, \n",
    "    visualize_continuous_dist, \n",
    "    visualize_correlation,\n",
    "    analyze_nans, \n",
    "    analyze_label_dist,\n",
    "    visualize_distance\n",
    ")\n",
    "from assaiku.data.processing import remove_group_duplicates\n",
    "import pandas as pd\n",
    "# import logging\n",
    "\n",
    "# logging.basicConfig(format='%(asctime)s:%(levelname)-8s:%(name)s:%(message)s', \n",
    "#                     level=logging.INFO,\n",
    "#                     )\n",
    "\n",
    "pd.set_option('display.max_columns', 50)\n",
    "\n",
    "data_config = DataConfig(perform_exploration=True)"
   ]
  },
  {
   "cell_type": "markdown",
   "metadata": {},
   "source": [
    "## Loading and validating data"
   ]
  },
  {
   "cell_type": "code",
   "execution_count": null,
   "metadata": {},
   "outputs": [],
   "source": [
    "train_df, test_df = load_and_validate(data_config=data_config)"
   ]
  },
  {
   "cell_type": "markdown",
   "metadata": {},
   "source": [
    "## Start of the analysis"
   ]
  },
  {
   "cell_type": "markdown",
   "metadata": {},
   "source": [
    "### Duplicates and NaN"
   ]
  },
  {
   "cell_type": "code",
   "execution_count": null,
   "metadata": {},
   "outputs": [],
   "source": [
    "analyze_nans(train_df)"
   ]
  },
  {
   "cell_type": "code",
   "execution_count": null,
   "metadata": {},
   "outputs": [],
   "source": [
    "clean_train_df = remove_group_duplicates(train_df,weight_col=data_config.weight_col, remove_age=True)\n",
    "clean_test_df = remove_group_duplicates(test_df,weight_col=data_config.weight_col, remove_age=True)"
   ]
  },
  {
   "cell_type": "code",
   "execution_count": null,
   "metadata": {},
   "outputs": [],
   "source": [
    "# Let's look at the distribution of labels\n",
    "print(\"Train\")\n",
    "analyze_label_dist(data=clean_train_df, data_config=data_config)\n",
    "print(\"Test\")\n",
    "analyze_label_dist(data=clean_test_df, data_config=data_config)"
   ]
  },
  {
   "cell_type": "markdown",
   "metadata": {},
   "source": [
    "## Distribution depending on income"
   ]
  },
  {
   "cell_type": "markdown",
   "metadata": {},
   "source": [
    "### Numerical values\n",
    "\n",
    "We will analyze how the distribution is different for the two groups of income (namely -50000 and +5000). For this we will first visualize the distributions for each continuous feature for the two groups of income to get a qualitative feeling about which parameter may have an impact on the income. Then we will run a more quantitative study where we will compute the correlation coefficient between the continuous variable and the income value binarized to 0 and 1."
   ]
  },
  {
   "cell_type": "code",
   "execution_count": null,
   "metadata": {},
   "outputs": [],
   "source": [
    "visualize_correlation(data=clean_train_df,\n",
    "                      data_config=data_config,)"
   ]
  },
  {
   "cell_type": "code",
   "execution_count": null,
   "metadata": {},
   "outputs": [],
   "source": [
    "visualize_continuous_dist(data=clean_train_df,\n",
    "                          data_config=data_config,\n",
    "                          folder_path=\"results/exploration/continuous\",\n",
    "                          filter_cols=None,\n",
    "                          # filter_cols=[\"age\",\"wage_per_hour\"],\n",
    "                          )"
   ]
  },
  {
   "cell_type": "markdown",
   "metadata": {},
   "source": [
    "### Categorical Values"
   ]
  },
  {
   "cell_type": "code",
   "execution_count": null,
   "metadata": {},
   "outputs": [],
   "source": [
    "visualize_distance(data=clean_train_df, data_config=data_config)"
   ]
  },
  {
   "cell_type": "code",
   "execution_count": null,
   "metadata": {},
   "outputs": [],
   "source": [
    "visualize_categorical_dist(data=clean_train_df, \n",
    "                           data_config=data_config, \n",
    "                           folder_path=\"results/exploration/categorical\",\n",
    "                           filter_cols=[\"detailed_industry_recode\",\n",
    "                           \"family_members_under_18\",\"sex\",\"veterans_benefits\", \"reason_for_unemployment\"])"
   ]
  },
  {
   "cell_type": "code",
   "execution_count": null,
   "metadata": {},
   "outputs": [],
   "source": [
    "data_pipeline = DataPipe(data_config=data_config)\n",
    "data_pipeline.run()"
   ]
  },
  {
   "cell_type": "code",
   "execution_count": null,
   "metadata": {},
   "outputs": [],
   "source": []
  }
 ],
 "metadata": {
  "kernelspec": {
   "display_name": "Python 3",
   "language": "python",
   "name": "python3"
  },
  "language_info": {
   "codemirror_mode": {
    "name": "ipython",
    "version": 3
   },
   "file_extension": ".py",
   "mimetype": "text/x-python",
   "name": "python",
   "nbconvert_exporter": "python",
   "pygments_lexer": "ipython3",
   "version": "3.11.10"
  }
 },
 "nbformat": 4,
 "nbformat_minor": 2
}
